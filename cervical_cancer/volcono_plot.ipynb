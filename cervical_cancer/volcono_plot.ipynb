{
 "cells": [
  {
   "cell_type": "code",
   "execution_count": 1,
   "metadata": {},
   "outputs": [],
   "source": [
    "import pandas as pd\n",
    "import numpy as np\n",
    "import matplotlib.pyplot as plt"
   ]
  },
  {
   "cell_type": "code",
   "execution_count": 3,
   "metadata": {},
   "outputs": [],
   "source": [
    "\n",
    "d = pd.read_csv(\"https://reneshbedre.github.io/myfiles/volcano/SaLR_DEGseq.txt\", sep=\"\\t\")"
   ]
  },
  {
   "cell_type": "code",
   "execution_count": 4,
   "metadata": {},
   "outputs": [
    {
     "data": {
      "text/html": [
       "<div>\n",
       "<style scoped>\n",
       "    .dataframe tbody tr th:only-of-type {\n",
       "        vertical-align: middle;\n",
       "    }\n",
       "\n",
       "    .dataframe tbody tr th {\n",
       "        vertical-align: top;\n",
       "    }\n",
       "\n",
       "    .dataframe thead th {\n",
       "        text-align: right;\n",
       "    }\n",
       "</style>\n",
       "<table border=\"1\" class=\"dataframe\">\n",
       "  <thead>\n",
       "    <tr style=\"text-align: right;\">\n",
       "      <th></th>\n",
       "      <th>GeneNames</th>\n",
       "      <th>value1</th>\n",
       "      <th>value2</th>\n",
       "      <th>log2FC</th>\n",
       "      <th>p-value</th>\n",
       "    </tr>\n",
       "  </thead>\n",
       "  <tbody>\n",
       "    <tr>\n",
       "      <th>0</th>\n",
       "      <td>LOC_Os09g01000.1</td>\n",
       "      <td>8862</td>\n",
       "      <td>32767</td>\n",
       "      <td>-1.886539</td>\n",
       "      <td>1.250000e-55</td>\n",
       "    </tr>\n",
       "    <tr>\n",
       "      <th>1</th>\n",
       "      <td>LOC_Os12g42876.1</td>\n",
       "      <td>1099</td>\n",
       "      <td>117</td>\n",
       "      <td>3.231611</td>\n",
       "      <td>1.050000e-55</td>\n",
       "    </tr>\n",
       "    <tr>\n",
       "      <th>2</th>\n",
       "      <td>LOC_Os12g42884.2</td>\n",
       "      <td>797</td>\n",
       "      <td>88</td>\n",
       "      <td>3.179004</td>\n",
       "      <td>2.590000e-54</td>\n",
       "    </tr>\n",
       "    <tr>\n",
       "      <th>3</th>\n",
       "      <td>LOC_Os03g16920.1</td>\n",
       "      <td>274</td>\n",
       "      <td>7</td>\n",
       "      <td>5.290677</td>\n",
       "      <td>4.690000e-54</td>\n",
       "    </tr>\n",
       "    <tr>\n",
       "      <th>4</th>\n",
       "      <td>LOC_Os05g47540.4</td>\n",
       "      <td>308</td>\n",
       "      <td>18</td>\n",
       "      <td>4.096862</td>\n",
       "      <td>2.190000e-54</td>\n",
       "    </tr>\n",
       "  </tbody>\n",
       "</table>\n",
       "</div>"
      ],
      "text/plain": [
       "          GeneNames  value1  value2    log2FC       p-value\n",
       "0  LOC_Os09g01000.1    8862   32767 -1.886539  1.250000e-55\n",
       "1  LOC_Os12g42876.1    1099     117  3.231611  1.050000e-55\n",
       "2  LOC_Os12g42884.2     797      88  3.179004  2.590000e-54\n",
       "3  LOC_Os03g16920.1     274       7  5.290677  4.690000e-54\n",
       "4  LOC_Os05g47540.4     308      18  4.096862  2.190000e-54"
      ]
     },
     "execution_count": 4,
     "metadata": {},
     "output_type": "execute_result"
    }
   ],
   "source": [
    "d.head()"
   ]
  },
  {
   "cell_type": "code",
   "execution_count": 5,
   "metadata": {},
   "outputs": [
    {
     "data": {
      "text/html": [
       "<div>\n",
       "<style scoped>\n",
       "    .dataframe tbody tr th:only-of-type {\n",
       "        vertical-align: middle;\n",
       "    }\n",
       "\n",
       "    .dataframe tbody tr th {\n",
       "        vertical-align: top;\n",
       "    }\n",
       "\n",
       "    .dataframe thead th {\n",
       "        text-align: right;\n",
       "    }\n",
       "</style>\n",
       "<table border=\"1\" class=\"dataframe\">\n",
       "  <thead>\n",
       "    <tr style=\"text-align: right;\">\n",
       "      <th></th>\n",
       "      <th>value1</th>\n",
       "      <th>value2</th>\n",
       "      <th>log2FC</th>\n",
       "      <th>p-value</th>\n",
       "    </tr>\n",
       "  </thead>\n",
       "  <tbody>\n",
       "    <tr>\n",
       "      <th>count</th>\n",
       "      <td>19025.000000</td>\n",
       "      <td>19025.000000</td>\n",
       "      <td>10638.000000</td>\n",
       "      <td>1.902500e+04</td>\n",
       "    </tr>\n",
       "    <tr>\n",
       "      <th>mean</th>\n",
       "      <td>7.772983</td>\n",
       "      <td>9.626439</td>\n",
       "      <td>-0.104592</td>\n",
       "      <td>5.320242e-01</td>\n",
       "    </tr>\n",
       "    <tr>\n",
       "      <th>std</th>\n",
       "      <td>71.025414</td>\n",
       "      <td>239.910629</td>\n",
       "      <td>1.245378</td>\n",
       "      <td>3.596714e-01</td>\n",
       "    </tr>\n",
       "    <tr>\n",
       "      <th>min</th>\n",
       "      <td>0.000000</td>\n",
       "      <td>0.000000</td>\n",
       "      <td>-8.134426</td>\n",
       "      <td>1.050000e-55</td>\n",
       "    </tr>\n",
       "    <tr>\n",
       "      <th>25%</th>\n",
       "      <td>0.000000</td>\n",
       "      <td>1.000000</td>\n",
       "      <td>-1.000000</td>\n",
       "      <td>1.995741e-01</td>\n",
       "    </tr>\n",
       "    <tr>\n",
       "      <th>50%</th>\n",
       "      <td>2.000000</td>\n",
       "      <td>2.000000</td>\n",
       "      <td>0.000000</td>\n",
       "      <td>4.715267e-01</td>\n",
       "    </tr>\n",
       "    <tr>\n",
       "      <th>75%</th>\n",
       "      <td>6.000000</td>\n",
       "      <td>7.000000</td>\n",
       "      <td>0.652077</td>\n",
       "      <td>1.000000e+00</td>\n",
       "    </tr>\n",
       "    <tr>\n",
       "      <th>max</th>\n",
       "      <td>8862.000000</td>\n",
       "      <td>32767.000000</td>\n",
       "      <td>5.592457</td>\n",
       "      <td>1.000000e+00</td>\n",
       "    </tr>\n",
       "  </tbody>\n",
       "</table>\n",
       "</div>"
      ],
      "text/plain": [
       "             value1        value2        log2FC       p-value\n",
       "count  19025.000000  19025.000000  10638.000000  1.902500e+04\n",
       "mean       7.772983      9.626439     -0.104592  5.320242e-01\n",
       "std       71.025414    239.910629      1.245378  3.596714e-01\n",
       "min        0.000000      0.000000     -8.134426  1.050000e-55\n",
       "25%        0.000000      1.000000     -1.000000  1.995741e-01\n",
       "50%        2.000000      2.000000      0.000000  4.715267e-01\n",
       "75%        6.000000      7.000000      0.652077  1.000000e+00\n",
       "max     8862.000000  32767.000000      5.592457  1.000000e+00"
      ]
     },
     "execution_count": 5,
     "metadata": {},
     "output_type": "execute_result"
    }
   ],
   "source": [
    "d.describe()"
   ]
  },
  {
   "cell_type": "code",
   "execution_count": 6,
   "metadata": {},
   "outputs": [],
   "source": [
    "d.loc[(d['log2FC'] >= 1) & (d['p-value'] < 0.05), 'color'] = \"green\"  # upregulated\n",
    "d.loc[(d['log2FC'] <=- 1) & (d['p-value'] < 0.05), 'color'] = \"red\"   # downregulated\n",
    "d['color'].fillna('grey', inplace=True) # intermediate"
   ]
  },
  {
   "cell_type": "code",
   "execution_count": 7,
   "metadata": {},
   "outputs": [],
   "source": [
    "d = d.loc[(d['value1'] >= 10) & (d['value2'] >= 10)]"
   ]
  },
  {
   "cell_type": "code",
   "execution_count": 8,
   "metadata": {},
   "outputs": [],
   "source": [
    "d['logpv']=-(np.log10(d['p-value']))"
   ]
  },
  {
   "cell_type": "code",
   "execution_count": 9,
   "metadata": {},
   "outputs": [
    {
     "data": {
      "text/html": [
       "<div>\n",
       "<style scoped>\n",
       "    .dataframe tbody tr th:only-of-type {\n",
       "        vertical-align: middle;\n",
       "    }\n",
       "\n",
       "    .dataframe tbody tr th {\n",
       "        vertical-align: top;\n",
       "    }\n",
       "\n",
       "    .dataframe thead th {\n",
       "        text-align: right;\n",
       "    }\n",
       "</style>\n",
       "<table border=\"1\" class=\"dataframe\">\n",
       "  <thead>\n",
       "    <tr style=\"text-align: right;\">\n",
       "      <th></th>\n",
       "      <th>value1</th>\n",
       "      <th>value2</th>\n",
       "      <th>log2FC</th>\n",
       "      <th>p-value</th>\n",
       "      <th>logpv</th>\n",
       "    </tr>\n",
       "  </thead>\n",
       "  <tbody>\n",
       "    <tr>\n",
       "      <th>count</th>\n",
       "      <td>2389.000000</td>\n",
       "      <td>2389.000000</td>\n",
       "      <td>2389.000000</td>\n",
       "      <td>2.389000e+03</td>\n",
       "      <td>2389.000000</td>\n",
       "    </tr>\n",
       "    <tr>\n",
       "      <th>mean</th>\n",
       "      <td>42.682294</td>\n",
       "      <td>54.421934</td>\n",
       "      <td>-0.029712</td>\n",
       "      <td>3.517010e-01</td>\n",
       "      <td>2.026185</td>\n",
       "    </tr>\n",
       "    <tr>\n",
       "      <th>std</th>\n",
       "      <td>196.472923</td>\n",
       "      <td>675.328590</td>\n",
       "      <td>0.811810</td>\n",
       "      <td>3.381400e-01</td>\n",
       "      <td>5.201935</td>\n",
       "    </tr>\n",
       "    <tr>\n",
       "      <th>min</th>\n",
       "      <td>10.000000</td>\n",
       "      <td>10.000000</td>\n",
       "      <td>-3.016302</td>\n",
       "      <td>1.050000e-55</td>\n",
       "      <td>-0.000000</td>\n",
       "    </tr>\n",
       "    <tr>\n",
       "      <th>25%</th>\n",
       "      <td>15.000000</td>\n",
       "      <td>15.000000</td>\n",
       "      <td>-0.494765</td>\n",
       "      <td>2.349459e-02</td>\n",
       "      <td>0.194393</td>\n",
       "    </tr>\n",
       "    <tr>\n",
       "      <th>50%</th>\n",
       "      <td>22.000000</td>\n",
       "      <td>23.000000</td>\n",
       "      <td>0.000000</td>\n",
       "      <td>2.402673e-01</td>\n",
       "      <td>0.619305</td>\n",
       "    </tr>\n",
       "    <tr>\n",
       "      <th>75%</th>\n",
       "      <td>37.000000</td>\n",
       "      <td>38.000000</td>\n",
       "      <td>0.440573</td>\n",
       "      <td>6.391566e-01</td>\n",
       "      <td>1.629032</td>\n",
       "    </tr>\n",
       "    <tr>\n",
       "      <th>max</th>\n",
       "      <td>8862.000000</td>\n",
       "      <td>32767.000000</td>\n",
       "      <td>4.096862</td>\n",
       "      <td>1.000000e+00</td>\n",
       "      <td>54.978811</td>\n",
       "    </tr>\n",
       "  </tbody>\n",
       "</table>\n",
       "</div>"
      ],
      "text/plain": [
       "            value1        value2       log2FC       p-value        logpv\n",
       "count  2389.000000   2389.000000  2389.000000  2.389000e+03  2389.000000\n",
       "mean     42.682294     54.421934    -0.029712  3.517010e-01     2.026185\n",
       "std     196.472923    675.328590     0.811810  3.381400e-01     5.201935\n",
       "min      10.000000     10.000000    -3.016302  1.050000e-55    -0.000000\n",
       "25%      15.000000     15.000000    -0.494765  2.349459e-02     0.194393\n",
       "50%      22.000000     23.000000     0.000000  2.402673e-01     0.619305\n",
       "75%      37.000000     38.000000     0.440573  6.391566e-01     1.629032\n",
       "max    8862.000000  32767.000000     4.096862  1.000000e+00    54.978811"
      ]
     },
     "execution_count": 9,
     "metadata": {},
     "output_type": "execute_result"
    }
   ],
   "source": [
    "d.describe()"
   ]
  },
  {
   "cell_type": "code",
   "execution_count": 8,
   "metadata": {},
   "outputs": [
    {
     "data": {
      "image/png": "[encoded data removed]",
      "text/plain": [
       "<Figure size 432x288 with 1 Axes>"
      ]
     },
     "metadata": {
      "needs_background": "light"
     },
     "output_type": "display_data"
    }
   ],
   "source": [
    "# plot \n",
    "plt.scatter(d['log2FC'], d['logpv'], c=d['color'])\n",
    "plt.xlabel('log2 Fold Change',fontsize=15, fontname=\"sans-serif\", fontweight=\"bold\")\n",
    "plt.ylabel('-log10(P-value)', fontsize=15, fontname=\"sans-serif\", fontweight=\"bold\")\n",
    "plt.xticks(fontsize=12, fontname=\"sans-serif\")\n",
    "plt.yticks(fontsize=12, fontname=\"sans-serif\")\n",
    "plt.show()"
   ]
  },
  {
   "cell_type": "code",
   "execution_count": null,
   "metadata": {},
   "outputs": [],
   "source": []
  }
 ],
 "metadata": {
  "kernelspec": {
   "display_name": "Python 3",
   "language": "python",
   "name": "python3"
  },
  "language_info": {
   "codemirror_mode": {
    "name": "ipython",
    "version": 3
   },
   "file_extension": ".py",
   "mimetype": "text/x-python",
   "name": "python",
   "nbconvert_exporter": "python",
   "pygments_lexer": "ipython3",
   "version": "3.6.7"
  }
 },
 "nbformat": 4,
 "nbformat_minor": 2
}
